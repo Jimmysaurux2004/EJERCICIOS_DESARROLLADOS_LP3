{
 "cells": [
  {
   "cell_type": "markdown",
   "id": "508089ce",
   "metadata": {},
   "source": [
    "# SEMANA 05\n",
    "Estudiante: Jimmy Alexander Huerta Vasquez"
   ]
  },
  {
   "cell_type": "markdown",
   "id": "3c584a1b",
   "metadata": {},
   "source": [
    "2. Estructuras decisivas y repetitivas"
   ]
  },
  {
   "cell_type": "code",
   "execution_count": null,
   "id": "fa3270a6",
   "metadata": {},
   "outputs": [],
   "source": [
    "# TAREA 2 - SEMANA 05"
   ]
  },
  {
   "cell_type": "code",
   "execution_count": 2,
   "id": "cc3c8ee5",
   "metadata": {},
   "outputs": [],
   "source": [
    "#Problema 02\n",
    "#Dado el importe total de ventas realizadas por un trabajador (ingresado por teclado,\n",
    "#categorizar que tipo de empleado es, considerando la siguiente tabla:\n",
    "\n",
    "#Categoria: A -> [0, 1000]\n",
    "#Categoria: B -> <1000, 2000]\n",
    "#Categoria: C -> <2000, 5000]\n",
    "#Categoría: D -> <5000, Mas]\n",
    "\n",
    "#Tiempo asignado: 12 minutos"
   ]
  },
  {
   "cell_type": "code",
   "execution_count": 3,
   "id": "53d0938a",
   "metadata": {},
   "outputs": [
    {
     "name": "stdout",
     "output_type": "stream",
     "text": [
      "Importe de ventas realizadas: 4500\n",
      "Categoria C\n"
     ]
    }
   ],
   "source": [
    "#Solución\n",
    "\n",
    "ventas = float(input(\"Importe de ventas realizadas: \"))\n",
    "if ventas < 0:\n",
    "    print(\"Datos erroneos\")\n",
    "elif ventas<=1000:\n",
    "    print(\"Categoria A\")\n",
    "elif ventas <=2000:\n",
    "    print(\"Categoria B\")\n",
    "elif ventas <= 5000:\n",
    "    print(\"Categoria C\")\n",
    "else:\n",
    "    print(\"Categoria D\")"
   ]
  },
  {
   "cell_type": "code",
   "execution_count": null,
   "id": "759aed65",
   "metadata": {},
   "outputs": [],
   "source": []
  }
 ],
 "metadata": {
  "kernelspec": {
   "display_name": "Python 3 (ipykernel)",
   "language": "python",
   "name": "python3"
  },
  "language_info": {
   "codemirror_mode": {
    "name": "ipython",
    "version": 3
   },
   "file_extension": ".py",
   "mimetype": "text/x-python",
   "name": "python",
   "nbconvert_exporter": "python",
   "pygments_lexer": "ipython3",
   "version": "3.9.12"
  }
 },
 "nbformat": 4,
 "nbformat_minor": 5
}
