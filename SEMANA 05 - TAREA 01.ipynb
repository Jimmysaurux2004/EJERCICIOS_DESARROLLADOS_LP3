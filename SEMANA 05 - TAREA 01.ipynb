{
 "cells": [
  {
   "cell_type": "markdown",
   "id": "0961213e",
   "metadata": {},
   "source": [
    "# SEMANA 05\n",
    "Estudiante: Jimmy Alexander Huerta Vasquez"
   ]
  },
  {
   "cell_type": "markdown",
   "id": "4a57e787",
   "metadata": {},
   "source": [
    "1. Colecciones de Datos"
   ]
  },
  {
   "cell_type": "code",
   "execution_count": 1,
   "id": "480a25fb",
   "metadata": {},
   "outputs": [],
   "source": [
    "# TAREA 1 - SEMANA 05"
   ]
  },
  {
   "cell_type": "code",
   "execution_count": 2,
   "id": "f28f6749",
   "metadata": {},
   "outputs": [],
   "source": [
    "# 1.5. Ejercicio\n",
    "# Dado una lista de [AMES, ARTEAGA , BARRIOS , BONIFACIO, BRAVO, CABALLERO , CAÑAZACA, FERNANDEZ , FLORES , GARCIA , HERRERA , HUERTA , HUERTAS, JIMENEZ , MAMANI , MANCILLA, PABLO , PAYE , PEÑA , PIZANGO, RAMOS, SANCHEZ,SEVILLANO, TINOCO, TORRES , VALDIVIESO, VELEZ , VILLANUEVA , ZUÑIGA]\n",
    "# Diseñar un código que muestre si el apellido de un estudiante (Ingresado por teclado) forma parte de la lista\n",
    "# tiempo: 12 minutos"
   ]
  },
  {
   "cell_type": "code",
   "execution_count": 3,
   "id": "6ea1b697",
   "metadata": {},
   "outputs": [
    {
     "name": "stdout",
     "output_type": "stream",
     "text": [
      "Ingrese apellido: \n",
      "HUERTA\n",
      "¡El apellido está en la lista!\n"
     ]
    }
   ],
   "source": [
    "#Solución mejorada con If y Else\n",
    "aula = ['AMES', 'ARTEAGA', 'BARRIOS', 'BONIFACIO', 'BRAVO', 'CABALLERO', 'CAÑAZACA', 'FERNANDEZ', 'FLORES', 'GARCIA', 'HERRERA', 'HUERTA', 'HUERTAS', 'JIMENEZ', 'MAMANI', 'MANCILLA', 'PABLO', 'PAYE', 'PEÑA', 'PIZANGO', 'RAMOS', 'SANCHEZ','SEVILLANO', 'TINOCO', 'TORRES', 'VALDIVIESO', 'VELEZ', 'VILLANUEVA', 'ZUÑIGA']\n",
    "print(\"Ingrese apellido: \")\n",
    "apellido = input()\n",
    "if apellido in aula:\n",
    "    print(\"¡El apellido está en la lista!\")\n",
    "else:\n",
    "    print(\"El apellido no está en la lista.\")"
   ]
  },
  {
   "cell_type": "code",
   "execution_count": null,
   "id": "573901f4",
   "metadata": {},
   "outputs": [],
   "source": []
  }
 ],
 "metadata": {
  "kernelspec": {
   "display_name": "Python 3 (ipykernel)",
   "language": "python",
   "name": "python3"
  },
  "language_info": {
   "codemirror_mode": {
    "name": "ipython",
    "version": 3
   },
   "file_extension": ".py",
   "mimetype": "text/x-python",
   "name": "python",
   "nbconvert_exporter": "python",
   "pygments_lexer": "ipython3",
   "version": "3.9.12"
  }
 },
 "nbformat": 4,
 "nbformat_minor": 5
}
